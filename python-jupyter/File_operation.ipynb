{
 "cells": [
  {
   "cell_type": "markdown",
   "id": "59e8dc1d",
   "metadata": {},
   "source": [
    "# File\n",
    "\n",
    "File is the collection of data that is availabel to a program. We can retrieve and use data stored in a file whenever we required.\n",
    "\n",
    "Adavantages:\n",
    "\n",
    "Store data is permanent unles someone remove it.\n",
    "Store data can be shared.\n",
    "It is possible to update when requried\n",
    "\n",
    "Two types of file:\n",
    "\n",
    "Textfile: It store in form of chaarcters\n",
    "\n",
    "Binary file: IT stores data in the form of bytes, a group \n",
    "of 8 bit\n",
    "\n",
    "Python File Open\n",
    "File handling is an important part of any web application.\n",
    "\n",
    "Python has several functions for creating, reading, updating, and deleting files.\n",
    "\n",
    "File Handling:\n",
    "\n",
    "The key function for working with files in Python is the open() function.\n",
    "\n",
    "The open() function takes two parameters; filename, and mode.\n",
    "\n",
    "There are four different methods (modes) for opening a file:\n",
    "\n",
    "\"r\" - Read - Default value. Opens a file for reading, error if the file does not exist\n",
    "\n",
    "\"a\" - Append - Opens a file for appending, creates the file if it does not exist\n",
    "\n",
    "\"w\" - Write - Opens a file for writing, creates the file if it does not exist\n",
    "\n",
    "\"x\" - Create - Creates the specified file, returns an error if the file exists\n",
    "\n",
    "In addition you can specify if the file should be handled as binary or text mode\n",
    "\n",
    "\"t\" - Text - Default value. Text mode\n",
    "\n",
    "\"b\" - Binary - Binary mode (e.g. images)\n",
    "\n",
    "Syntax\n",
    "To open a file for reading it is enough to specify the name of the file:\n",
    "\n",
    "f = open(\"demofile.txt\")\n",
    "The code above is the same as:\n",
    "\n",
    "f = open(\"demofile.txt\", \"rt\")\n",
    "Because \"r\" for read, and \"t\" for text are the default values, you do not need to specify them."
   ]
  },
  {
   "cell_type": "code",
   "execution_count": 18,
   "id": "bc7c62a2",
   "metadata": {},
   "outputs": [],
   "source": [
    "f = open(\"demofile.txt\", mode='w')\n",
    "f.write(\"Hello how are you \\n\")\n",
    "f.write(\"Hello medi students final year \\n\")\n",
    "f.close()"
   ]
  },
  {
   "cell_type": "code",
   "execution_count": 19,
   "id": "795826b3",
   "metadata": {},
   "outputs": [
    {
     "name": "stdout",
     "output_type": "stream",
     "text": [
      "Hello how are you \n",
      "Hello medi students final year \n",
      "\n"
     ]
    }
   ],
   "source": [
    "f=open('demofile.txt', mode='r')\n",
    "data=f.read()\n",
    "print(data)\n",
    "f.close()"
   ]
  },
  {
   "cell_type": "code",
   "execution_count": 20,
   "id": "2a6b98be",
   "metadata": {},
   "outputs": [
    {
     "ename": "FileExistsError",
     "evalue": "[Errno 17] File exists: 'demofile.txt'",
     "output_type": "error",
     "traceback": [
      "\u001b[1;31m---------------------------------------------------------------------------\u001b[0m",
      "\u001b[1;31mFileExistsError\u001b[0m                           Traceback (most recent call last)",
      "\u001b[1;32mC:\\PROGRA~1\\KMSpico\\temp/ipykernel_18308/1798509067.py\u001b[0m in \u001b[0;36m<module>\u001b[1;34m\u001b[0m\n\u001b[1;32m----> 1\u001b[1;33m \u001b[0mf\u001b[0m\u001b[1;33m=\u001b[0m\u001b[0mopen\u001b[0m\u001b[1;33m(\u001b[0m\u001b[1;34m'demofile.txt'\u001b[0m\u001b[1;33m,\u001b[0m \u001b[0mmode\u001b[0m\u001b[1;33m=\u001b[0m\u001b[1;34m'x'\u001b[0m\u001b[1;33m)\u001b[0m\u001b[1;33m\u001b[0m\u001b[1;33m\u001b[0m\u001b[0m\n\u001b[0m\u001b[0;32m      2\u001b[0m \u001b[0mdata\u001b[0m\u001b[1;33m=\u001b[0m\u001b[0mf\u001b[0m\u001b[1;33m.\u001b[0m\u001b[0mread\u001b[0m\u001b[1;33m(\u001b[0m\u001b[1;33m)\u001b[0m\u001b[1;33m\u001b[0m\u001b[1;33m\u001b[0m\u001b[0m\n\u001b[0;32m      3\u001b[0m \u001b[0mprint\u001b[0m\u001b[1;33m(\u001b[0m\u001b[0mdata\u001b[0m\u001b[1;33m)\u001b[0m\u001b[1;33m\u001b[0m\u001b[1;33m\u001b[0m\u001b[0m\n\u001b[0;32m      4\u001b[0m \u001b[0mf\u001b[0m\u001b[1;33m.\u001b[0m\u001b[0mclose\u001b[0m\u001b[1;33m(\u001b[0m\u001b[1;33m)\u001b[0m\u001b[1;33m\u001b[0m\u001b[1;33m\u001b[0m\u001b[0m\n",
      "\u001b[1;31mFileExistsError\u001b[0m: [Errno 17] File exists: 'demofile.txt'"
     ]
    }
   ],
   "source": [
    "f=open('demofile.txt', mode='x')\n",
    "data=f.read()\n",
    "print(data)\n",
    "f.close()"
   ]
  },
  {
   "cell_type": "code",
   "execution_count": 21,
   "id": "903d0361",
   "metadata": {},
   "outputs": [],
   "source": [
    "f=open('demofile11.txt', mode='x')\n",
    "f.write(\"Hello how are you\\n\")\n",
    "f.write(\"Hello medi \\n\")\n",
    "f.close()"
   ]
  },
  {
   "cell_type": "code",
   "execution_count": 22,
   "id": "8979a088",
   "metadata": {},
   "outputs": [
    {
     "name": "stdout",
     "output_type": "stream",
     "text": [
      "Hello how are you\n",
      "Hello medi \n",
      "\n"
     ]
    }
   ],
   "source": [
    "f=open('demofile11.txt', mode='r')\n",
    "data=f.read()\n",
    "print(data)\n",
    "f.close()"
   ]
  },
  {
   "cell_type": "code",
   "execution_count": 23,
   "id": "6f457f00",
   "metadata": {},
   "outputs": [],
   "source": [
    "f = open(\"demofile.txt\", mode='a')\n",
    "f.write(\"Happy to see both of you\")\n",
    "f.close()"
   ]
  },
  {
   "cell_type": "code",
   "execution_count": 26,
   "id": "11612f0e",
   "metadata": {},
   "outputs": [
    {
     "name": "stdout",
     "output_type": "stream",
     "text": [
      "Hello how are you \n",
      "Hello medi students final year \n",
      "Happy to see both of you\n"
     ]
    }
   ],
   "source": [
    "f=open('demofile.txt', mode='rt')\n",
    "data=f.read()\n",
    "print(data)\n",
    "f.close()"
   ]
  },
  {
   "cell_type": "code",
   "execution_count": 27,
   "id": "882e0103",
   "metadata": {},
   "outputs": [
    {
     "name": "stdout",
     "output_type": "stream",
     "text": [
      "b'Hello how are you \\r\\nHello medi students final year \\r\\nHappy to see both of you'\n"
     ]
    }
   ],
   "source": [
    "f=open('demofile.txt', mode='rb')\n",
    "data=f.read()\n",
    "print(data)\n",
    "f.close()"
   ]
  },
  {
   "cell_type": "markdown",
   "id": "44094d11",
   "metadata": {},
   "source": [
    "# File object Method\n",
    "readable()  \n",
    "\n",
    "This method is used to check whether file is readable or not.It returns TRue if file is readable else returns False\n",
    "\n",
    "Syntax: file_object.readable()\n",
    "\n",
    "writable() \n",
    "\n",
    "This method is used to check whether file is writable or not. It returns True if file is writable else return False\n",
    "\n",
    "Syntax: file_object.writable()"
   ]
  },
  {
   "cell_type": "code",
   "execution_count": 54,
   "id": "767d565e",
   "metadata": {},
   "outputs": [
    {
     "name": "stdout",
     "output_type": "stream",
     "text": [
      "student.txt\n",
      "w\n"
     ]
    }
   ],
   "source": [
    "f = open('student.txt',mode='w')\n",
    "f.write(\"Hello dear one\\n\")\n",
    "f.write(\"How are you students \\n\")\n",
    "print(f.name)\n",
    "print(f.mode)\n",
    "f.close()"
   ]
  },
  {
   "cell_type": "code",
   "execution_count": 55,
   "id": "2f71f612",
   "metadata": {},
   "outputs": [
    {
     "name": "stdout",
     "output_type": "stream",
     "text": [
      "False\n",
      "True\n",
      "True\n"
     ]
    }
   ],
   "source": [
    "f=open('student.txt', mode='w')\n",
    "print(f.readable())\n",
    "print(f.writable())\n",
    "f.close()\n",
    "print(f.closed)\n"
   ]
  },
  {
   "cell_type": "code",
   "execution_count": 57,
   "id": "529c6ce8",
   "metadata": {},
   "outputs": [
    {
     "name": "stdout",
     "output_type": "stream",
     "text": [
      "False\n"
     ]
    }
   ],
   "source": [
    "f=open('student.txt', mode='r')\n",
    "print(f.closed)\n",
    "f.close()\n"
   ]
  },
  {
   "cell_type": "code",
   "execution_count": 58,
   "id": "060ace3a",
   "metadata": {},
   "outputs": [
    {
     "name": "stdout",
     "output_type": "stream",
     "text": [
      "File Name : student.txt\n",
      "File Mode : r\n",
      "File Readable : True\n",
      "File Writeable : False\n",
      "File Closed : False\n",
      "File Closed : True\n"
     ]
    }
   ],
   "source": [
    "f= open('student.txt',mode='r')\n",
    "print(\"File Name :\",f.name)\n",
    "print(\"File Mode :\",f.mode)\n",
    "print(\"File Readable :\",f.readable())\n",
    "print(\"File Writeable :\",f.writable())\n",
    "print(\"File Closed :\",f.closed)\n",
    "f.close()\n",
    "print(\"File Closed :\",f.closed)"
   ]
  },
  {
   "cell_type": "code",
   "execution_count": 59,
   "id": "9cb0011c",
   "metadata": {},
   "outputs": [
    {
     "name": "stdout",
     "output_type": "stream",
     "text": [
      "File Name : student.txt\n",
      "File Mode : w\n",
      "File Readable : False\n",
      "File Writeable : True\n",
      "File Closed : False\n",
      "File Closed : True\n"
     ]
    }
   ],
   "source": [
    "f= open('student.txt',mode='w')\n",
    "print(\"File Name :\",f.name)\n",
    "print(\"File Mode :\",f.mode)\n",
    "print(\"File Readable :\",f.readable())\n",
    "print(\"File Writeable :\",f.writable())\n",
    "print(\"File Closed :\",f.closed)\n",
    "f.close()\n",
    "print(\"File Closed :\",f.closed)"
   ]
  },
  {
   "cell_type": "code",
   "execution_count": 60,
   "id": "167ca356",
   "metadata": {},
   "outputs": [
    {
     "ename": "FileExistsError",
     "evalue": "[Errno 17] File exists: 'student.txt'",
     "output_type": "error",
     "traceback": [
      "\u001b[1;31m---------------------------------------------------------------------------\u001b[0m",
      "\u001b[1;31mFileExistsError\u001b[0m                           Traceback (most recent call last)",
      "\u001b[1;32mC:\\PROGRA~1\\KMSpico\\temp/ipykernel_18308/2683115200.py\u001b[0m in \u001b[0;36m<module>\u001b[1;34m\u001b[0m\n\u001b[1;32m----> 1\u001b[1;33m \u001b[0mf\u001b[0m\u001b[1;33m=\u001b[0m \u001b[0mopen\u001b[0m\u001b[1;33m(\u001b[0m\u001b[1;34m'student.txt'\u001b[0m\u001b[1;33m,\u001b[0m\u001b[0mmode\u001b[0m\u001b[1;33m=\u001b[0m\u001b[1;34m'x'\u001b[0m\u001b[1;33m)\u001b[0m\u001b[1;33m\u001b[0m\u001b[1;33m\u001b[0m\u001b[0m\n\u001b[0m\u001b[0;32m      2\u001b[0m \u001b[0mprint\u001b[0m\u001b[1;33m(\u001b[0m\u001b[1;34m\"File Name :\"\u001b[0m\u001b[1;33m,\u001b[0m\u001b[0mf\u001b[0m\u001b[1;33m.\u001b[0m\u001b[0mname\u001b[0m\u001b[1;33m)\u001b[0m\u001b[1;33m\u001b[0m\u001b[1;33m\u001b[0m\u001b[0m\n\u001b[0;32m      3\u001b[0m \u001b[0mprint\u001b[0m\u001b[1;33m(\u001b[0m\u001b[1;34m\"File Mode :\"\u001b[0m\u001b[1;33m,\u001b[0m\u001b[0mf\u001b[0m\u001b[1;33m.\u001b[0m\u001b[0mmode\u001b[0m\u001b[1;33m)\u001b[0m\u001b[1;33m\u001b[0m\u001b[1;33m\u001b[0m\u001b[0m\n\u001b[0;32m      4\u001b[0m \u001b[0mprint\u001b[0m\u001b[1;33m(\u001b[0m\u001b[1;34m\"File Readable :\"\u001b[0m\u001b[1;33m,\u001b[0m\u001b[0mf\u001b[0m\u001b[1;33m.\u001b[0m\u001b[0mreadable\u001b[0m\u001b[1;33m(\u001b[0m\u001b[1;33m)\u001b[0m\u001b[1;33m)\u001b[0m\u001b[1;33m\u001b[0m\u001b[1;33m\u001b[0m\u001b[0m\n\u001b[0;32m      5\u001b[0m \u001b[0mprint\u001b[0m\u001b[1;33m(\u001b[0m\u001b[1;34m\"File Writeable :\"\u001b[0m\u001b[1;33m,\u001b[0m\u001b[0mf\u001b[0m\u001b[1;33m.\u001b[0m\u001b[0mwritable\u001b[0m\u001b[1;33m(\u001b[0m\u001b[1;33m)\u001b[0m\u001b[1;33m)\u001b[0m\u001b[1;33m\u001b[0m\u001b[1;33m\u001b[0m\u001b[0m\n",
      "\u001b[1;31mFileExistsError\u001b[0m: [Errno 17] File exists: 'student.txt'"
     ]
    }
   ],
   "source": [
    "f= open('student.txt',mode='x')\n",
    "print(\"File Name :\",f.name)\n",
    "print(\"File Mode :\",f.mode)\n",
    "print(\"File Readable :\",f.readable())\n",
    "print(\"File Writeable :\",f.writable())\n",
    "print(\"File Closed :\",f.closed)\n",
    "f.close()\n",
    "print(\"File Closed :\",f.closed)"
   ]
  },
  {
   "cell_type": "code",
   "execution_count": 61,
   "id": "412cc9cc",
   "metadata": {},
   "outputs": [
    {
     "name": "stdout",
     "output_type": "stream",
     "text": [
      "File Name : student.txt\n",
      "File Mode : a\n",
      "File Readable : False\n",
      "File Writeable : True\n",
      "File Closed : False\n",
      "File Closed : True\n"
     ]
    }
   ],
   "source": [
    "f= open('student.txt',mode='a')\n",
    "print(\"File Name :\",f.name)\n",
    "print(\"File Mode :\",f.mode)\n",
    "print(\"File Readable :\",f.readable())\n",
    "print(\"File Writeable :\",f.writable())\n",
    "print(\"File Closed :\",f.closed)\n",
    "f.close()\n",
    "print(\"File Closed :\",f.closed)"
   ]
  },
  {
   "cell_type": "markdown",
   "id": "c5bed057",
   "metadata": {},
   "source": [
    "r+  Open for reading and then writing\n",
    "w+  Open for writing and then reading.It will overwrite existing data.\n",
    "\n",
    "a+  Open for appending then reading.It won't overwrite existing data.\n"
   ]
  },
  {
   "cell_type": "code",
   "execution_count": 62,
   "id": "2b6b68b9",
   "metadata": {},
   "outputs": [
    {
     "name": "stdout",
     "output_type": "stream",
     "text": [
      "File Name : student.txt\n",
      "File Mode : r+\n",
      "File Readable : True\n",
      "File Writeable : True\n",
      "File Closed : False\n",
      "File Closed : True\n"
     ]
    }
   ],
   "source": [
    "f= open('student.txt',mode='r+')\n",
    "print(\"File Name :\",f.name)\n",
    "print(\"File Mode :\",f.mode)\n",
    "print(\"File Readable :\",f.readable())\n",
    "print(\"File Writeable :\",f.writable())\n",
    "print(\"File Closed :\",f.closed)\n",
    "f.close()\n",
    "print(\"File Closed :\",f.closed)"
   ]
  },
  {
   "cell_type": "code",
   "execution_count": 46,
   "id": "54b88a94",
   "metadata": {},
   "outputs": [
    {
     "name": "stdout",
     "output_type": "stream",
     "text": [
      "File Name : student.txt\n",
      "File Mode : w+\n",
      "File Readable : True\n",
      "File Writeable : True\n",
      "File Closed : False\n",
      "File Closed : True\n"
     ]
    }
   ],
   "source": [
    "f= open('student.txt',mode='w+')\n",
    "print(\"File Name :\",f.name)\n",
    "print(\"File Mode :\",f.mode)\n",
    "print(\"File Readable :\",f.readable())\n",
    "print(\"File Writeable :\",f.writable())\n",
    "print(\"File Closed :\",f.closed)\n",
    "f.close()\n",
    "print(\"File Closed :\",f.closed)"
   ]
  },
  {
   "cell_type": "code",
   "execution_count": 63,
   "id": "ec792057",
   "metadata": {},
   "outputs": [
    {
     "name": "stdout",
     "output_type": "stream",
     "text": [
      "File Name : student.txt\n",
      "File Mode : a+\n",
      "File Readable : True\n",
      "File Writeable : True\n",
      "File Closed : False\n",
      "File Closed : True\n"
     ]
    }
   ],
   "source": [
    "f= open('student.txt',mode='a+')\n",
    "print(\"File Name :\",f.name)\n",
    "print(\"File Mode :\",f.mode)\n",
    "print(\"File Readable :\",f.readable())\n",
    "print(\"File Writeable :\",f.writable())\n",
    "print(\"File Closed :\",f.closed)\n",
    "f.close()\n",
    "print(\"File Closed :\",f.closed)"
   ]
  },
  {
   "cell_type": "markdown",
   "id": "098e14ee",
   "metadata": {},
   "source": [
    "# Manupulating of pointer using seek & tell method "
   ]
  },
  {
   "cell_type": "markdown",
   "id": "6c1acf7c",
   "metadata": {},
   "source": [
    "The seek() function in Python is used to move the file cursor to the specified location. When we read a file, the cursor starts at the beginning, but we can move it to a specific position by passing an arbitrary integer (based on the length of the content in the file) to the seek() function\n",
    "The tell() method returns the current file position in a file stream."
   ]
  },
  {
   "cell_type": "code",
   "execution_count": 83,
   "id": "52744434",
   "metadata": {},
   "outputs": [],
   "source": [
    "f3=open (\"studentcse.txt\",mode=\"w\")\n",
    "data3=f3.write(\"iam_a_student_of_cse\")\n"
   ]
  },
  {
   "cell_type": "code",
   "execution_count": 84,
   "id": "279fa770",
   "metadata": {},
   "outputs": [
    {
     "name": "stdout",
     "output_type": "stream",
     "text": [
      "iam_a_student_of_cse\n"
     ]
    }
   ],
   "source": [
    "f3=open(\"studentcse.txt\",mode=\"r\")\n",
    "data=f3.read()\n",
    "print(data)"
   ]
  },
  {
   "cell_type": "code",
   "execution_count": 86,
   "id": "3a3281e1",
   "metadata": {},
   "outputs": [
    {
     "name": "stdout",
     "output_type": "stream",
     "text": [
      "0\n",
      "7\n",
      "tudent_of_cse\n",
      "20\n",
      "2\n",
      "m_a_student_of_cse\n"
     ]
    }
   ],
   "source": [
    "f=open(\"studentcse.txt\",mode=\"r\")\n",
    "print(f.tell())\n",
    "f.seek(7)\n",
    "print(f.tell())\n",
    "data1=f.read()\n",
    "print(data1)\n",
    "print(f.tell())\n",
    "f.seek(2)\n",
    "print(f.tell())\n",
    "data2=f.read()\n",
    "print(data2)"
   ]
  },
  {
   "cell_type": "code",
   "execution_count": 87,
   "id": "9641ec40",
   "metadata": {},
   "outputs": [
    {
     "name": "stdout",
     "output_type": "stream",
     "text": [
      "\n"
     ]
    }
   ],
   "source": [
    "f =open(\"student.txt\", mode='a+')\n",
    "f.write('Youtube SAFDAR final ')\n",
    "data =f.read()\n",
    "print(data)"
   ]
  },
  {
   "cell_type": "code",
   "execution_count": 88,
   "id": "a4491e98",
   "metadata": {},
   "outputs": [
    {
     "name": "stdout",
     "output_type": "stream",
     "text": [
      "49\n",
      "56\n",
      "56\n",
      "\n"
     ]
    }
   ],
   "source": [
    "\n",
    "\n",
    "f=open(\"student.txt\", mode='a+')\n",
    "print(f.tell())\n",
    "f.write('Youtube')\n",
    "print(f.tell())\n",
    "data =f.read()\n",
    "print(f.tell())\n",
    "print(data)"
   ]
  },
  {
   "cell_type": "code",
   "execution_count": 106,
   "id": "8eee7377",
   "metadata": {},
   "outputs": [
    {
     "name": "stdout",
     "output_type": "stream",
     "text": [
      "44\n",
      "51\n",
      "0\n",
      "51\n",
      "Hello dear one\n",
      "How are you \n",
      "YoutubeYoutubeYoutube\n"
     ]
    }
   ],
   "source": [
    "f=open(\"student11.txt\", mode='a+')\n",
    "print(f.tell())\n",
    "f.write('Youtube')\n",
    "print(f.tell())\n",
    "f.seek(0)\n",
    "print(f.tell())\n",
    "data =f.read()\n",
    "print(f.tell())\n",
    "print(data)"
   ]
  },
  {
   "cell_type": "markdown",
   "id": "8a60f55d",
   "metadata": {},
   "source": [
    "# How to copy file contents in python"
   ]
  },
  {
   "cell_type": "code",
   "execution_count": 89,
   "id": "59004c25",
   "metadata": {},
   "outputs": [
    {
     "name": "stdout",
     "output_type": "stream",
     "text": [
      "YoutubeYoutube SAFDARYoutubeYoutube SAFDAR final Youtube\n"
     ]
    }
   ],
   "source": [
    "f1 = open(\"student.txt\",mode='r')\n",
    "f2 = open(\"student24.txt\",mode='w')\n",
    "data = f1.read()\n",
    "f2.write(data)\n",
    "print(data)\n",
    "f1.close()\n",
    "f2.close()"
   ]
  },
  {
   "cell_type": "code",
   "execution_count": 90,
   "id": "60b6a3b6",
   "metadata": {},
   "outputs": [
    {
     "name": "stdout",
     "output_type": "stream",
     "text": [
      "YoutubeYoutube SAFDARYoutubeYoutube SAFDAR final Youtube\n"
     ]
    }
   ],
   "source": [
    "f2=open(\"student24.txt\",mode=\"r\")\n",
    "data=f2.read()\n",
    "print(data)"
   ]
  },
  {
   "cell_type": "code",
   "execution_count": 91,
   "id": "2161dcfe",
   "metadata": {},
   "outputs": [
    {
     "name": "stdout",
     "output_type": "stream",
     "text": [
      "\n"
     ]
    }
   ],
   "source": [
    "f3=open(\"student2.txt\",mode=\"r\")\n",
    "data=f2.read()\n",
    "print(data)"
   ]
  },
  {
   "cell_type": "code",
   "execution_count": 92,
   "id": "7d5b13bf",
   "metadata": {},
   "outputs": [
    {
     "name": "stdout",
     "output_type": "stream",
     "text": [
      "YoutubeYoutube SAFDARYoutubeYoutube SAFDAR final Youtube\n"
     ]
    }
   ],
   "source": [
    "f1 = open(\"student.txt\",mode='r')\n",
    "f3 = open(\"student2.txt\",mode='w')\n",
    "data = f1.read()\n",
    "f3.write(data)\n",
    "print(data)\n",
    "f1.close()\n",
    "f3.close()"
   ]
  },
  {
   "cell_type": "code",
   "execution_count": 93,
   "id": "f45cd714",
   "metadata": {},
   "outputs": [
    {
     "name": "stdout",
     "output_type": "stream",
     "text": [
      "YoutubeYoutube SAFDARYoutubeYoutube SAFDAR final Youtube\n"
     ]
    }
   ],
   "source": [
    "f3=open(\"student2.txt\",mode=\"r\")\n",
    "data=f3.read()\n",
    "print(data)"
   ]
  },
  {
   "cell_type": "markdown",
   "id": "3563d708",
   "metadata": {},
   "source": [
    "# with statement in python"
   ]
  },
  {
   "cell_type": "code",
   "execution_count": 94,
   "id": "a1dfcdba",
   "metadata": {},
   "outputs": [
    {
     "name": "stdout",
     "output_type": "stream",
     "text": [
      "YoutubeYoutube SAFDARYoutubeYoutube SAFDAR final Youtube\n",
      "False\n",
      "True\n"
     ]
    }
   ],
   "source": [
    "with open(\"student.txt\",mode=\"r\") as f5:\n",
    "    data = f5.read()\n",
    "    print(data)\n",
    "    print(f5.closed)\n",
    "print(f5.closed)"
   ]
  },
  {
   "cell_type": "markdown",
   "id": "2e12cd1b",
   "metadata": {},
   "source": [
    "# writelines()"
   ]
  },
  {
   "cell_type": "code",
   "execution_count": 97,
   "id": "f8d9c84a",
   "metadata": {},
   "outputs": [],
   "source": [
    "f=open(\"student_writelines.txt\", mode='w')\n",
    "lst=[\"raj\",'mohan','rahul','rani','safdar']\n",
    "f.writelines(lst)\n",
    "f.close()\n"
   ]
  },
  {
   "cell_type": "code",
   "execution_count": 98,
   "id": "dc01c141",
   "metadata": {},
   "outputs": [],
   "source": [
    "f=open(\"student_writelines.txt\", mode='w')\n",
    "lst=['raj \\n','mohan \\n','rahul \\n','rani \\n']\n",
    "f.writelines(lst)\n",
    "f.close()"
   ]
  },
  {
   "cell_type": "code",
   "execution_count": 99,
   "id": "18e92c50",
   "metadata": {},
   "outputs": [
    {
     "data": {
      "text/plain": [
       "[1, 4, 8]"
      ]
     },
     "execution_count": 99,
     "metadata": {},
     "output_type": "execute_result"
    }
   ],
   "source": [
    "t=(1,2,4,3,8,9)\n",
    "[t[i]for i in range(0,len(t),2)]\n"
   ]
  },
  {
   "cell_type": "code",
   "execution_count": 52,
   "id": "162aef8f",
   "metadata": {},
   "outputs": [
    {
     "name": "stdout",
     "output_type": "stream",
     "text": [
      "ab12ef12\n"
     ]
    }
   ],
   "source": [
    "print('abcdef12'.replace('cd','12'))"
   ]
  },
  {
   "cell_type": "code",
   "execution_count": 53,
   "id": "72d81891",
   "metadata": {},
   "outputs": [
    {
     "ename": "AttributeError",
     "evalue": "'str' object has no attribute 'reverse'",
     "output_type": "error",
     "traceback": [
      "\u001b[1;31m---------------------------------------------------------------------------\u001b[0m",
      "\u001b[1;31mAttributeError\u001b[0m                            Traceback (most recent call last)",
      "\u001b[1;32mC:\\PROGRA~1\\KMSpico\\temp/ipykernel_18308/884492296.py\u001b[0m in \u001b[0;36m<module>\u001b[1;34m\u001b[0m\n\u001b[0;32m      1\u001b[0m \u001b[0mstre\u001b[0m \u001b[1;33m=\u001b[0m \u001b[1;34m\"saf\"\u001b[0m\u001b[1;33m\u001b[0m\u001b[1;33m\u001b[0m\u001b[0m\n\u001b[1;32m----> 2\u001b[1;33m \u001b[0mm\u001b[0m \u001b[1;33m=\u001b[0m \u001b[0mstre\u001b[0m\u001b[1;33m.\u001b[0m\u001b[0mreverse\u001b[0m\u001b[1;33m\u001b[0m\u001b[1;33m\u001b[0m\u001b[0m\n\u001b[0m\u001b[0;32m      3\u001b[0m \u001b[0mprint\u001b[0m\u001b[1;33m(\u001b[0m\u001b[0mm\u001b[0m\u001b[1;33m)\u001b[0m\u001b[1;33m\u001b[0m\u001b[1;33m\u001b[0m\u001b[0m\n",
      "\u001b[1;31mAttributeError\u001b[0m: 'str' object has no attribute 'reverse'"
     ]
    }
   ],
   "source": [
    "stre = \"saf\"\n",
    "m = stre.reverse\n",
    "print(m)"
   ]
  },
  {
   "cell_type": "code",
   "execution_count": 100,
   "id": "22c740a5",
   "metadata": {},
   "outputs": [
    {
     "ename": "AttributeError",
     "evalue": "'list' object has no attribute 'add'",
     "output_type": "error",
     "traceback": [
      "\u001b[1;31m---------------------------------------------------------------------------\u001b[0m",
      "\u001b[1;31mAttributeError\u001b[0m                            Traceback (most recent call last)",
      "\u001b[1;32mC:\\PROGRA~1\\KMSpico\\temp/ipykernel_18308/2189205904.py\u001b[0m in \u001b[0;36m<module>\u001b[1;34m\u001b[0m\n\u001b[0;32m      1\u001b[0m \u001b[0ml\u001b[0m \u001b[1;33m=\u001b[0m\u001b[1;33m[\u001b[0m\u001b[1;36m2\u001b[0m\u001b[1;33m,\u001b[0m\u001b[1;36m3\u001b[0m\u001b[1;33m]\u001b[0m\u001b[1;33m\u001b[0m\u001b[1;33m\u001b[0m\u001b[0m\n\u001b[1;32m----> 2\u001b[1;33m \u001b[0ml\u001b[0m\u001b[1;33m.\u001b[0m\u001b[0madd\u001b[0m\u001b[1;33m(\u001b[0m\u001b[1;36m7\u001b[0m\u001b[1;33m)\u001b[0m\u001b[1;33m\u001b[0m\u001b[1;33m\u001b[0m\u001b[0m\n\u001b[0m\u001b[0;32m      3\u001b[0m \u001b[0mprint\u001b[0m\u001b[1;33m(\u001b[0m\u001b[0ml\u001b[0m\u001b[1;33m)\u001b[0m\u001b[1;33m\u001b[0m\u001b[1;33m\u001b[0m\u001b[0m\n",
      "\u001b[1;31mAttributeError\u001b[0m: 'list' object has no attribute 'add'"
     ]
    }
   ],
   "source": [
    "l =[2,3]\n",
    "l.add(7)\n",
    "print(l)"
   ]
  },
  {
   "cell_type": "code",
   "execution_count": null,
   "id": "967381bd",
   "metadata": {},
   "outputs": [],
   "source": []
  }
 ],
 "metadata": {
  "kernelspec": {
   "display_name": "Python 3 (ipykernel)",
   "language": "python",
   "name": "python3"
  },
  "language_info": {
   "codemirror_mode": {
    "name": "ipython",
    "version": 3
   },
   "file_extension": ".py",
   "mimetype": "text/x-python",
   "name": "python",
   "nbconvert_exporter": "python",
   "pygments_lexer": "ipython3",
   "version": "3.9.7"
  }
 },
 "nbformat": 4,
 "nbformat_minor": 5
}
