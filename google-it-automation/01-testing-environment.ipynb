{
 "cells": [
  {
   "cell_type": "code",
   "execution_count": 4,
   "id": "e5162abc-f752-48a8-962b-c992fb3e4163",
   "metadata": {},
   "outputs": [],
   "source": [
    "import pandas as pd"
   ]
  },
  {
   "cell_type": "code",
   "execution_count": 5,
   "id": "5d5d7f72-6675-4582-aa48-e7478e9eebfc",
   "metadata": {},
   "outputs": [],
   "source": [
    "visitors = [2398, 9828, 8271, 1284, 4828]\n",
    "errors = [17, 28, 83, 19, 38]"
   ]
  },
  {
   "cell_type": "code",
   "execution_count": 7,
   "id": "efa5484a-ff21-44ae-8fe2-c9d62b07b882",
   "metadata": {},
   "outputs": [],
   "source": [
    "df = pd.DataFrame({\"visitors\":visitors, \"errors\":errors}, index=[\"Mon\",\"Tue\",\"Wed\",\"Thu\",\"Fri\"])"
   ]
  },
  {
   "cell_type": "code",
   "execution_count": 8,
   "id": "9a2c94f7-af3f-4227-a7c5-9f2d6ea5c1ae",
   "metadata": {},
   "outputs": [
    {
     "name": "stdout",
     "output_type": "stream",
     "text": [
      "     visitors  errors\n",
      "Mon      2398      17\n",
      "Tue      9828      28\n",
      "Wed      8271      83\n",
      "Thu      1284      19\n",
      "Fri      4828      38\n"
     ]
    }
   ],
   "source": [
    "print(df)\n"
   ]
  },
  {
   "cell_type": "code",
   "execution_count": 11,
   "id": "407ac5e8-7c80-4f0f-95b0-86b7208ba1fd",
   "metadata": {},
   "outputs": [
    {
     "name": "stdout",
     "output_type": "stream",
     "text": [
      "37.0\n"
     ]
    }
   ],
   "source": [
    "print(df[\"errors\"].mean())"
   ]
  }
 ],
 "metadata": {
  "kernelspec": {
   "display_name": "Python 3 (ipykernel)",
   "language": "python",
   "name": "python3"
  },
  "language_info": {
   "codemirror_mode": {
    "name": "ipython",
    "version": 3
   },
   "file_extension": ".py",
   "mimetype": "text/x-python",
   "name": "python",
   "nbconvert_exporter": "python",
   "pygments_lexer": "ipython3",
   "version": "3.12.4"
  }
 },
 "nbformat": 4,
 "nbformat_minor": 5
}
