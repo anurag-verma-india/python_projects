{
 "cells": [
  {
   "cell_type": "code",
   "execution_count": 4,
   "id": "79cb3370-a3c9-43b4-a969-31bd07b2d62e",
   "metadata": {},
   "outputs": [],
   "source": [
    "import numpy as np\n",
    "import pandas as pd"
   ]
  },
  {
   "cell_type": "code",
   "execution_count": 2,
   "id": "fabb24f2-8d16-4f98-ab4e-7fd62ba23acb",
   "metadata": {},
   "outputs": [
    {
     "data": {
      "text/plain": [
       "array([ 4, 10, 18])"
      ]
     },
     "execution_count": 2,
     "metadata": {},
     "output_type": "execute_result"
    }
   ],
   "source": [
    "list1 = np.array([1,2,3])\n",
    "list2 = np.array([4,5,6])\n",
    "\n",
    "list1*list2"
   ]
  },
  {
   "cell_type": "code",
   "execution_count": 8,
   "id": "5e464368-4c40-4559-bf75-bd1bb6521f88",
   "metadata": {},
   "outputs": [
    {
     "name": "stdout",
     "output_type": "stream",
     "text": [
      "2.1.2\n",
      "2.2.3\n"
     ]
    }
   ],
   "source": [
    "print(np.__version__)\n",
    "print(pd.__version__)"
   ]
  },
  {
   "cell_type": "code",
   "execution_count": 10,
   "id": "71a22758-c248-4bc0-9b48-ef6beb357176",
   "metadata": {},
   "outputs": [
    {
     "name": "stdout",
     "output_type": "stream",
     "text": [
      "(3,)\n",
      "int64\n",
      "<class 'numpy.ndarray'>\n",
      "1\n"
     ]
    }
   ],
   "source": [
    "print(list1.shape)\n",
    "print(list1.dtype)\n",
    "print(type(list1))\n",
    "print(list1.ndim)"
   ]
  },
  {
   "cell_type": "code",
   "execution_count": 15,
   "id": "52c81bf9-914a-4869-92b8-b7ec4c5dcb56",
   "metadata": {},
   "outputs": [
    {
     "name": "stdout",
     "output_type": "stream",
     "text": [
      "[[[0 1]\n",
      "  [1 2]]\n",
      "\n",
      " [[3 4]\n",
      "  [5 6]]]\n",
      "3\n"
     ]
    }
   ],
   "source": [
    "list3 = np.array([[[0,1],[1,2]],[[3,4],[5,6]]])\n",
    "print(list3)\n",
    "print(list3.ndim)"
   ]
  },
  {
   "cell_type": "markdown",
   "id": "506b2d3a-feb0-4854-81c0-969d87cc818d",
   "metadata": {},
   "source": [
    "### Reshaping in np"
   ]
  },
  {
   "cell_type": "code",
   "execution_count": 21,
   "id": "8af21f33-f24e-41d3-9fb3-51c52c5407b9",
   "metadata": {},
   "outputs": [
    {
     "name": "stdout",
     "output_type": "stream",
     "text": [
      "[[1 2]\n",
      " [3 4]\n",
      " [4 5]\n",
      " [6 7]]\n"
     ]
    }
   ],
   "source": [
    "array_2d = np.array([(1,2,3,4),(4,5,6,7)])\n",
    "print(array_2d.reshape(4,-1))"
   ]
  },
  {
   "cell_type": "code",
   "execution_count": 22,
   "id": "2ee5fa66-dfef-4f5c-b1d7-9544bb391353",
   "metadata": {},
   "outputs": [
    {
     "data": {
      "text/plain": [
       "array([1, 2, 3, 4, 4, 5, 6, 7])"
      ]
     },
     "execution_count": 22,
     "metadata": {},
     "output_type": "execute_result"
    }
   ],
   "source": [
    "array_2d.flatten()"
   ]
  },
  {
   "cell_type": "code",
   "execution_count": 24,
   "id": "f9b60aae-1688-4518-872f-e55b74f19018",
   "metadata": {},
   "outputs": [
    {
     "data": {
      "text/plain": [
       "[[1, 2, 3, 4], [4, 5, 6, 7]]"
      ]
     },
     "execution_count": 24,
     "metadata": {},
     "output_type": "execute_result"
    }
   ],
   "source": [
    "array_2d.tolist()"
   ]
  },
  {
   "cell_type": "code",
   "execution_count": 31,
   "id": "e8951597-b7f2-438f-8f04-1c0bc7e5435b",
   "metadata": {},
   "outputs": [
    {
     "data": {
      "text/plain": [
       "array([4, 7])"
      ]
     },
     "execution_count": 31,
     "metadata": {},
     "output_type": "execute_result"
    }
   ],
   "source": [
    "array_2d.max(1)"
   ]
  },
  {
   "cell_type": "code",
   "execution_count": 39,
   "id": "f151de83-14f8-421e-bf83-04ecee840885",
   "metadata": {},
   "outputs": [
    {
     "data": {
      "text/plain": [
       "array([1.11803399, 1.11803399])"
      ]
     },
     "execution_count": 39,
     "metadata": {},
     "output_type": "execute_result"
    }
   ],
   "source": [
    "array_2d.std(1)"
   ]
  },
  {
   "cell_type": "code",
   "execution_count": 41,
   "id": "bd3545af-107c-472b-a0b7-134bf74ed42e",
   "metadata": {},
   "outputs": [
    {
     "data": {
      "text/plain": [
       "8"
      ]
     },
     "execution_count": 41,
     "metadata": {},
     "output_type": "execute_result"
    }
   ],
   "source": [
    "array_2d.size"
   ]
  }
 ],
 "metadata": {
  "kernelspec": {
   "display_name": "Python 3 (ipykernel)",
   "language": "python",
   "name": "python3"
  },
  "language_info": {
   "codemirror_mode": {
    "name": "ipython",
    "version": 3
   },
   "file_extension": ".py",
   "mimetype": "text/x-python",
   "name": "python",
   "nbconvert_exporter": "python",
   "pygments_lexer": "ipython3",
   "version": "3.12.4"
  }
 },
 "nbformat": 4,
 "nbformat_minor": 5
}
