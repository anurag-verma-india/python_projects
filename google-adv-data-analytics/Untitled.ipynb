{
 "cells": [
  {
   "cell_type": "code",
   "execution_count": 13,
   "id": "0b027dd9-05a7-4b6d-9a4d-842d3c6f3902",
   "metadata": {},
   "outputs": [
    {
     "name": "stdout",
     "output_type": "stream",
     "text": [
      "(1, 2, 3)\n"
     ]
    },
    {
     "data": {
      "text/plain": [
       "6"
      ]
     },
     "execution_count": 13,
     "metadata": {},
     "output_type": "execute_result"
    }
   ],
   "source": [
    "def add(*args):\n",
    "     print(args)\n",
    "     total = 0\n",
    "     for arg in args:\n",
    "         total += arg\n",
    "     return total\n",
    "add(1, 2, 3)"
   ]
  },
  {
   "cell_type": "code",
   "execution_count": 14,
   "id": "0dee2431-5167-4691-b2b4-e1b3320d1f8f",
   "metadata": {},
   "outputs": [
    {
     "data": {
      "text/plain": [
       "dict_keys(['a', 'b', 'c'])"
      ]
     },
     "execution_count": 14,
     "metadata": {},
     "output_type": "execute_result"
    }
   ],
   "source": [
    "def example(**kwargs):\n",
    "     return kwargs.keys()\n",
    "\n",
    "example(a=10, b=20, c=[0, 0, 0])\n",
    "# ['a', 'c', 'b']"
   ]
  },
  {
   "cell_type": "code",
   "execution_count": 29,
   "id": "230fa250-4ce2-4d45-9bcf-61b95ac33494",
   "metadata": {},
   "outputs": [
    {
     "name": "stdout",
     "output_type": "stream",
     "text": [
      "b b \n",
      "dict_items([('a', 1), ('b', 2)])\n"
     ]
    }
   ],
   "source": [
    "dict1 = {\"a\":1,\"b\":2}\n",
    "\n",
    "for key,value in dict1.items():\n",
    "    print(ele, end=\" \")\n",
    "print()\n",
    "\n",
    "print(dict1.items())"
   ]
  },
  {
   "cell_type": "code",
   "execution_count": null,
   "id": "0b60192f-b733-4eb7-9dfb-5da5b32ea57b",
   "metadata": {},
   "outputs": [],
   "source": []
  }
 ],
 "metadata": {
  "kernelspec": {
   "display_name": "Python 3 (ipykernel)",
   "language": "python",
   "name": "python3"
  },
  "language_info": {
   "codemirror_mode": {
    "name": "ipython",
    "version": 3
   },
   "file_extension": ".py",
   "mimetype": "text/x-python",
   "name": "python",
   "nbconvert_exporter": "python",
   "pygments_lexer": "ipython3",
   "version": "3.12.4"
  }
 },
 "nbformat": 4,
 "nbformat_minor": 5
}
